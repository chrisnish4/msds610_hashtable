{
  "nbformat": 4,
  "nbformat_minor": 0,
  "metadata": {
    "colab": {
      "provenance": [],
      "include_colab_link": true
    },
    "kernelspec": {
      "name": "python3",
      "display_name": "Python 3"
    },
    "language_info": {
      "name": "python"
    }
  },
  "cells": [
    {
      "cell_type": "markdown",
      "metadata": {
        "id": "view-in-github",
        "colab_type": "text"
      },
      "source": [
        "<a href=\"https://colab.research.google.com/github/chrisnish4/msds610_hashtable/blob/main/hash_demo.ipynb\" target=\"_parent\"><img src=\"https://colab.research.google.com/assets/colab-badge.svg\" alt=\"Open In Colab\"/></a>"
      ]
    },
    {
      "cell_type": "code",
      "execution_count": null,
      "metadata": {
        "id": "6uCiVXCHyMu9"
      },
      "outputs": [],
      "source": [
        "import numpy as np\n",
        "import pandas as pd\n",
        "import os\n",
        "import matplotlib.pyplot as plt\n",
        "\n",
        "from google.colab import files"
      ]
    },
    {
      "cell_type": "markdown",
      "source": [
        "# Getting the data\n"
      ],
      "metadata": {
        "id": "YvFyKREF06oU"
      }
    },
    {
      "cell_type": "code",
      "source": [
        "! conda install -c conda-forge kaggle"
      ],
      "metadata": {
        "colab": {
          "base_uri": "https://localhost:8080/"
        },
        "id": "cUNkkOT5z_Z5",
        "outputId": "2c19f5b8-3ae1-45ed-d17d-b6ba0381e3eb"
      },
      "execution_count": null,
      "outputs": [
        {
          "output_type": "stream",
          "name": "stdout",
          "text": [
            "/bin/bash: line 1: conda: command not found\n"
          ]
        }
      ]
    },
    {
      "cell_type": "code",
      "source": [
        "uploaded = files.upload()\n",
        "path = '/root/.kaggle'\n",
        "os.makedirs(path, exist_ok=True)\n",
        "os.rename(list(uploaded.keys())[0], '/root/.kaggle/kaggle.json')\n",
        "os.chmod(\"/root/.kaggle/kaggle.json\", 600)"
      ],
      "metadata": {
        "colab": {
          "base_uri": "https://localhost:8080/",
          "height": 73
        },
        "id": "oXpszvVT0Irv",
        "outputId": "0bac1e7f-4442-4dc9-9dea-8b8dc243379d"
      },
      "execution_count": null,
      "outputs": [
        {
          "output_type": "display_data",
          "data": {
            "text/plain": [
              "<IPython.core.display.HTML object>"
            ],
            "text/html": [
              "\n",
              "     <input type=\"file\" id=\"files-999018b7-a86f-4843-90cf-e2efbfc9e6a0\" name=\"files[]\" multiple disabled\n",
              "        style=\"border:none\" />\n",
              "     <output id=\"result-999018b7-a86f-4843-90cf-e2efbfc9e6a0\">\n",
              "      Upload widget is only available when the cell has been executed in the\n",
              "      current browser session. Please rerun this cell to enable.\n",
              "      </output>\n",
              "      <script>// Copyright 2017 Google LLC\n",
              "//\n",
              "// Licensed under the Apache License, Version 2.0 (the \"License\");\n",
              "// you may not use this file except in compliance with the License.\n",
              "// You may obtain a copy of the License at\n",
              "//\n",
              "//      http://www.apache.org/licenses/LICENSE-2.0\n",
              "//\n",
              "// Unless required by applicable law or agreed to in writing, software\n",
              "// distributed under the License is distributed on an \"AS IS\" BASIS,\n",
              "// WITHOUT WARRANTIES OR CONDITIONS OF ANY KIND, either express or implied.\n",
              "// See the License for the specific language governing permissions and\n",
              "// limitations under the License.\n",
              "\n",
              "/**\n",
              " * @fileoverview Helpers for google.colab Python module.\n",
              " */\n",
              "(function(scope) {\n",
              "function span(text, styleAttributes = {}) {\n",
              "  const element = document.createElement('span');\n",
              "  element.textContent = text;\n",
              "  for (const key of Object.keys(styleAttributes)) {\n",
              "    element.style[key] = styleAttributes[key];\n",
              "  }\n",
              "  return element;\n",
              "}\n",
              "\n",
              "// Max number of bytes which will be uploaded at a time.\n",
              "const MAX_PAYLOAD_SIZE = 100 * 1024;\n",
              "\n",
              "function _uploadFiles(inputId, outputId) {\n",
              "  const steps = uploadFilesStep(inputId, outputId);\n",
              "  const outputElement = document.getElementById(outputId);\n",
              "  // Cache steps on the outputElement to make it available for the next call\n",
              "  // to uploadFilesContinue from Python.\n",
              "  outputElement.steps = steps;\n",
              "\n",
              "  return _uploadFilesContinue(outputId);\n",
              "}\n",
              "\n",
              "// This is roughly an async generator (not supported in the browser yet),\n",
              "// where there are multiple asynchronous steps and the Python side is going\n",
              "// to poll for completion of each step.\n",
              "// This uses a Promise to block the python side on completion of each step,\n",
              "// then passes the result of the previous step as the input to the next step.\n",
              "function _uploadFilesContinue(outputId) {\n",
              "  const outputElement = document.getElementById(outputId);\n",
              "  const steps = outputElement.steps;\n",
              "\n",
              "  const next = steps.next(outputElement.lastPromiseValue);\n",
              "  return Promise.resolve(next.value.promise).then((value) => {\n",
              "    // Cache the last promise value to make it available to the next\n",
              "    // step of the generator.\n",
              "    outputElement.lastPromiseValue = value;\n",
              "    return next.value.response;\n",
              "  });\n",
              "}\n",
              "\n",
              "/**\n",
              " * Generator function which is called between each async step of the upload\n",
              " * process.\n",
              " * @param {string} inputId Element ID of the input file picker element.\n",
              " * @param {string} outputId Element ID of the output display.\n",
              " * @return {!Iterable<!Object>} Iterable of next steps.\n",
              " */\n",
              "function* uploadFilesStep(inputId, outputId) {\n",
              "  const inputElement = document.getElementById(inputId);\n",
              "  inputElement.disabled = false;\n",
              "\n",
              "  const outputElement = document.getElementById(outputId);\n",
              "  outputElement.innerHTML = '';\n",
              "\n",
              "  const pickedPromise = new Promise((resolve) => {\n",
              "    inputElement.addEventListener('change', (e) => {\n",
              "      resolve(e.target.files);\n",
              "    });\n",
              "  });\n",
              "\n",
              "  const cancel = document.createElement('button');\n",
              "  inputElement.parentElement.appendChild(cancel);\n",
              "  cancel.textContent = 'Cancel upload';\n",
              "  const cancelPromise = new Promise((resolve) => {\n",
              "    cancel.onclick = () => {\n",
              "      resolve(null);\n",
              "    };\n",
              "  });\n",
              "\n",
              "  // Wait for the user to pick the files.\n",
              "  const files = yield {\n",
              "    promise: Promise.race([pickedPromise, cancelPromise]),\n",
              "    response: {\n",
              "      action: 'starting',\n",
              "    }\n",
              "  };\n",
              "\n",
              "  cancel.remove();\n",
              "\n",
              "  // Disable the input element since further picks are not allowed.\n",
              "  inputElement.disabled = true;\n",
              "\n",
              "  if (!files) {\n",
              "    return {\n",
              "      response: {\n",
              "        action: 'complete',\n",
              "      }\n",
              "    };\n",
              "  }\n",
              "\n",
              "  for (const file of files) {\n",
              "    const li = document.createElement('li');\n",
              "    li.append(span(file.name, {fontWeight: 'bold'}));\n",
              "    li.append(span(\n",
              "        `(${file.type || 'n/a'}) - ${file.size} bytes, ` +\n",
              "        `last modified: ${\n",
              "            file.lastModifiedDate ? file.lastModifiedDate.toLocaleDateString() :\n",
              "                                    'n/a'} - `));\n",
              "    const percent = span('0% done');\n",
              "    li.appendChild(percent);\n",
              "\n",
              "    outputElement.appendChild(li);\n",
              "\n",
              "    const fileDataPromise = new Promise((resolve) => {\n",
              "      const reader = new FileReader();\n",
              "      reader.onload = (e) => {\n",
              "        resolve(e.target.result);\n",
              "      };\n",
              "      reader.readAsArrayBuffer(file);\n",
              "    });\n",
              "    // Wait for the data to be ready.\n",
              "    let fileData = yield {\n",
              "      promise: fileDataPromise,\n",
              "      response: {\n",
              "        action: 'continue',\n",
              "      }\n",
              "    };\n",
              "\n",
              "    // Use a chunked sending to avoid message size limits. See b/62115660.\n",
              "    let position = 0;\n",
              "    do {\n",
              "      const length = Math.min(fileData.byteLength - position, MAX_PAYLOAD_SIZE);\n",
              "      const chunk = new Uint8Array(fileData, position, length);\n",
              "      position += length;\n",
              "\n",
              "      const base64 = btoa(String.fromCharCode.apply(null, chunk));\n",
              "      yield {\n",
              "        response: {\n",
              "          action: 'append',\n",
              "          file: file.name,\n",
              "          data: base64,\n",
              "        },\n",
              "      };\n",
              "\n",
              "      let percentDone = fileData.byteLength === 0 ?\n",
              "          100 :\n",
              "          Math.round((position / fileData.byteLength) * 100);\n",
              "      percent.textContent = `${percentDone}% done`;\n",
              "\n",
              "    } while (position < fileData.byteLength);\n",
              "  }\n",
              "\n",
              "  // All done.\n",
              "  yield {\n",
              "    response: {\n",
              "      action: 'complete',\n",
              "    }\n",
              "  };\n",
              "}\n",
              "\n",
              "scope.google = scope.google || {};\n",
              "scope.google.colab = scope.google.colab || {};\n",
              "scope.google.colab._files = {\n",
              "  _uploadFiles,\n",
              "  _uploadFilesContinue,\n",
              "};\n",
              "})(self);\n",
              "</script> "
            ]
          },
          "metadata": {}
        },
        {
          "output_type": "stream",
          "name": "stdout",
          "text": [
            "Saving kaggle.json to kaggle.json\n"
          ]
        }
      ]
    },
    {
      "cell_type": "code",
      "source": [
        "! kaggle datasets download -d syuzai/perth-house-prices"
      ],
      "metadata": {
        "colab": {
          "base_uri": "https://localhost:8080/"
        },
        "id": "Bi9JyH9A0KtZ",
        "outputId": "a9f29ce9-33d8-4cec-bf09-e50c54e1d4d5"
      },
      "execution_count": null,
      "outputs": [
        {
          "output_type": "stream",
          "name": "stdout",
          "text": [
            "Downloading perth-house-prices.zip to /content\n",
            "\r  0% 0.00/1.86M [00:00<?, ?B/s]\n",
            "\r100% 1.86M/1.86M [00:00<00:00, 39.9MB/s]\n"
          ]
        }
      ]
    },
    {
      "cell_type": "code",
      "source": [
        "! unzip ./perth-house-prices"
      ],
      "metadata": {
        "colab": {
          "base_uri": "https://localhost:8080/"
        },
        "id": "HW_nAVKV0Um_",
        "outputId": "e80e980c-d86b-4052-91af-85c13565b393"
      },
      "execution_count": null,
      "outputs": [
        {
          "output_type": "stream",
          "name": "stdout",
          "text": [
            "Archive:  ./perth-house-prices.zip\n",
            "  inflating: all_perth_310121.csv    \n"
          ]
        }
      ]
    },
    {
      "cell_type": "markdown",
      "source": [
        "# Data"
      ],
      "metadata": {
        "id": "PjPw8Bi07h54"
      }
    },
    {
      "cell_type": "code",
      "source": [
        "file = ! ls *.csv\n",
        "data = pd.read_csv(file[0])"
      ],
      "metadata": {
        "id": "vvSA187M0Zrv"
      },
      "execution_count": null,
      "outputs": []
    },
    {
      "cell_type": "code",
      "source": [
        "relevant = data[['ADDRESS', 'PRICE']]\n",
        "relevant.head()"
      ],
      "metadata": {
        "colab": {
          "base_uri": "https://localhost:8080/",
          "height": 206
        },
        "id": "HyXj3Bnj1gxp",
        "outputId": "d67d924d-15a7-4a1b-e1af-0568b63e1d74"
      },
      "execution_count": 40,
      "outputs": [
        {
          "output_type": "execute_result",
          "data": {
            "text/plain": [
              "           ADDRESS   PRICE\n",
              "0    1 Acorn Place  565000\n",
              "1      1 Addis Way  365000\n",
              "2  1 Ainsley Court  287000\n",
              "3  1 Albert Street  255000\n",
              "4     1 Aman Place  325000"
            ],
            "text/html": [
              "\n",
              "  <div id=\"df-967463d7-5b27-42c4-ae8f-1158da34a50f\" class=\"colab-df-container\">\n",
              "    <div>\n",
              "<style scoped>\n",
              "    .dataframe tbody tr th:only-of-type {\n",
              "        vertical-align: middle;\n",
              "    }\n",
              "\n",
              "    .dataframe tbody tr th {\n",
              "        vertical-align: top;\n",
              "    }\n",
              "\n",
              "    .dataframe thead th {\n",
              "        text-align: right;\n",
              "    }\n",
              "</style>\n",
              "<table border=\"1\" class=\"dataframe\">\n",
              "  <thead>\n",
              "    <tr style=\"text-align: right;\">\n",
              "      <th></th>\n",
              "      <th>ADDRESS</th>\n",
              "      <th>PRICE</th>\n",
              "    </tr>\n",
              "  </thead>\n",
              "  <tbody>\n",
              "    <tr>\n",
              "      <th>0</th>\n",
              "      <td>1 Acorn Place</td>\n",
              "      <td>565000</td>\n",
              "    </tr>\n",
              "    <tr>\n",
              "      <th>1</th>\n",
              "      <td>1 Addis Way</td>\n",
              "      <td>365000</td>\n",
              "    </tr>\n",
              "    <tr>\n",
              "      <th>2</th>\n",
              "      <td>1 Ainsley Court</td>\n",
              "      <td>287000</td>\n",
              "    </tr>\n",
              "    <tr>\n",
              "      <th>3</th>\n",
              "      <td>1 Albert Street</td>\n",
              "      <td>255000</td>\n",
              "    </tr>\n",
              "    <tr>\n",
              "      <th>4</th>\n",
              "      <td>1 Aman Place</td>\n",
              "      <td>325000</td>\n",
              "    </tr>\n",
              "  </tbody>\n",
              "</table>\n",
              "</div>\n",
              "    <div class=\"colab-df-buttons\">\n",
              "\n",
              "  <div class=\"colab-df-container\">\n",
              "    <button class=\"colab-df-convert\" onclick=\"convertToInteractive('df-967463d7-5b27-42c4-ae8f-1158da34a50f')\"\n",
              "            title=\"Convert this dataframe to an interactive table.\"\n",
              "            style=\"display:none;\">\n",
              "\n",
              "  <svg xmlns=\"http://www.w3.org/2000/svg\" height=\"24px\" viewBox=\"0 -960 960 960\">\n",
              "    <path d=\"M120-120v-720h720v720H120Zm60-500h600v-160H180v160Zm220 220h160v-160H400v160Zm0 220h160v-160H400v160ZM180-400h160v-160H180v160Zm440 0h160v-160H620v160ZM180-180h160v-160H180v160Zm440 0h160v-160H620v160Z\"/>\n",
              "  </svg>\n",
              "    </button>\n",
              "\n",
              "  <style>\n",
              "    .colab-df-container {\n",
              "      display:flex;\n",
              "      gap: 12px;\n",
              "    }\n",
              "\n",
              "    .colab-df-convert {\n",
              "      background-color: #E8F0FE;\n",
              "      border: none;\n",
              "      border-radius: 50%;\n",
              "      cursor: pointer;\n",
              "      display: none;\n",
              "      fill: #1967D2;\n",
              "      height: 32px;\n",
              "      padding: 0 0 0 0;\n",
              "      width: 32px;\n",
              "    }\n",
              "\n",
              "    .colab-df-convert:hover {\n",
              "      background-color: #E2EBFA;\n",
              "      box-shadow: 0px 1px 2px rgba(60, 64, 67, 0.3), 0px 1px 3px 1px rgba(60, 64, 67, 0.15);\n",
              "      fill: #174EA6;\n",
              "    }\n",
              "\n",
              "    .colab-df-buttons div {\n",
              "      margin-bottom: 4px;\n",
              "    }\n",
              "\n",
              "    [theme=dark] .colab-df-convert {\n",
              "      background-color: #3B4455;\n",
              "      fill: #D2E3FC;\n",
              "    }\n",
              "\n",
              "    [theme=dark] .colab-df-convert:hover {\n",
              "      background-color: #434B5C;\n",
              "      box-shadow: 0px 1px 3px 1px rgba(0, 0, 0, 0.15);\n",
              "      filter: drop-shadow(0px 1px 2px rgba(0, 0, 0, 0.3));\n",
              "      fill: #FFFFFF;\n",
              "    }\n",
              "  </style>\n",
              "\n",
              "    <script>\n",
              "      const buttonEl =\n",
              "        document.querySelector('#df-967463d7-5b27-42c4-ae8f-1158da34a50f button.colab-df-convert');\n",
              "      buttonEl.style.display =\n",
              "        google.colab.kernel.accessAllowed ? 'block' : 'none';\n",
              "\n",
              "      async function convertToInteractive(key) {\n",
              "        const element = document.querySelector('#df-967463d7-5b27-42c4-ae8f-1158da34a50f');\n",
              "        const dataTable =\n",
              "          await google.colab.kernel.invokeFunction('convertToInteractive',\n",
              "                                                    [key], {});\n",
              "        if (!dataTable) return;\n",
              "\n",
              "        const docLinkHtml = 'Like what you see? Visit the ' +\n",
              "          '<a target=\"_blank\" href=https://colab.research.google.com/notebooks/data_table.ipynb>data table notebook</a>'\n",
              "          + ' to learn more about interactive tables.';\n",
              "        element.innerHTML = '';\n",
              "        dataTable['output_type'] = 'display_data';\n",
              "        await google.colab.output.renderOutput(dataTable, element);\n",
              "        const docLink = document.createElement('div');\n",
              "        docLink.innerHTML = docLinkHtml;\n",
              "        element.appendChild(docLink);\n",
              "      }\n",
              "    </script>\n",
              "  </div>\n",
              "\n",
              "\n",
              "<div id=\"df-a878539e-d03b-4f94-a665-ad864cbc2253\">\n",
              "  <button class=\"colab-df-quickchart\" onclick=\"quickchart('df-a878539e-d03b-4f94-a665-ad864cbc2253')\"\n",
              "            title=\"Suggest charts.\"\n",
              "            style=\"display:none;\">\n",
              "\n",
              "<svg xmlns=\"http://www.w3.org/2000/svg\" height=\"24px\"viewBox=\"0 0 24 24\"\n",
              "     width=\"24px\">\n",
              "    <g>\n",
              "        <path d=\"M19 3H5c-1.1 0-2 .9-2 2v14c0 1.1.9 2 2 2h14c1.1 0 2-.9 2-2V5c0-1.1-.9-2-2-2zM9 17H7v-7h2v7zm4 0h-2V7h2v10zm4 0h-2v-4h2v4z\"/>\n",
              "    </g>\n",
              "</svg>\n",
              "  </button>\n",
              "\n",
              "<style>\n",
              "  .colab-df-quickchart {\n",
              "      --bg-color: #E8F0FE;\n",
              "      --fill-color: #1967D2;\n",
              "      --hover-bg-color: #E2EBFA;\n",
              "      --hover-fill-color: #174EA6;\n",
              "      --disabled-fill-color: #AAA;\n",
              "      --disabled-bg-color: #DDD;\n",
              "  }\n",
              "\n",
              "  [theme=dark] .colab-df-quickchart {\n",
              "      --bg-color: #3B4455;\n",
              "      --fill-color: #D2E3FC;\n",
              "      --hover-bg-color: #434B5C;\n",
              "      --hover-fill-color: #FFFFFF;\n",
              "      --disabled-bg-color: #3B4455;\n",
              "      --disabled-fill-color: #666;\n",
              "  }\n",
              "\n",
              "  .colab-df-quickchart {\n",
              "    background-color: var(--bg-color);\n",
              "    border: none;\n",
              "    border-radius: 50%;\n",
              "    cursor: pointer;\n",
              "    display: none;\n",
              "    fill: var(--fill-color);\n",
              "    height: 32px;\n",
              "    padding: 0;\n",
              "    width: 32px;\n",
              "  }\n",
              "\n",
              "  .colab-df-quickchart:hover {\n",
              "    background-color: var(--hover-bg-color);\n",
              "    box-shadow: 0 1px 2px rgba(60, 64, 67, 0.3), 0 1px 3px 1px rgba(60, 64, 67, 0.15);\n",
              "    fill: var(--button-hover-fill-color);\n",
              "  }\n",
              "\n",
              "  .colab-df-quickchart-complete:disabled,\n",
              "  .colab-df-quickchart-complete:disabled:hover {\n",
              "    background-color: var(--disabled-bg-color);\n",
              "    fill: var(--disabled-fill-color);\n",
              "    box-shadow: none;\n",
              "  }\n",
              "\n",
              "  .colab-df-spinner {\n",
              "    border: 2px solid var(--fill-color);\n",
              "    border-color: transparent;\n",
              "    border-bottom-color: var(--fill-color);\n",
              "    animation:\n",
              "      spin 1s steps(1) infinite;\n",
              "  }\n",
              "\n",
              "  @keyframes spin {\n",
              "    0% {\n",
              "      border-color: transparent;\n",
              "      border-bottom-color: var(--fill-color);\n",
              "      border-left-color: var(--fill-color);\n",
              "    }\n",
              "    20% {\n",
              "      border-color: transparent;\n",
              "      border-left-color: var(--fill-color);\n",
              "      border-top-color: var(--fill-color);\n",
              "    }\n",
              "    30% {\n",
              "      border-color: transparent;\n",
              "      border-left-color: var(--fill-color);\n",
              "      border-top-color: var(--fill-color);\n",
              "      border-right-color: var(--fill-color);\n",
              "    }\n",
              "    40% {\n",
              "      border-color: transparent;\n",
              "      border-right-color: var(--fill-color);\n",
              "      border-top-color: var(--fill-color);\n",
              "    }\n",
              "    60% {\n",
              "      border-color: transparent;\n",
              "      border-right-color: var(--fill-color);\n",
              "    }\n",
              "    80% {\n",
              "      border-color: transparent;\n",
              "      border-right-color: var(--fill-color);\n",
              "      border-bottom-color: var(--fill-color);\n",
              "    }\n",
              "    90% {\n",
              "      border-color: transparent;\n",
              "      border-bottom-color: var(--fill-color);\n",
              "    }\n",
              "  }\n",
              "</style>\n",
              "\n",
              "  <script>\n",
              "    async function quickchart(key) {\n",
              "      const quickchartButtonEl =\n",
              "        document.querySelector('#' + key + ' button');\n",
              "      quickchartButtonEl.disabled = true;  // To prevent multiple clicks.\n",
              "      quickchartButtonEl.classList.add('colab-df-spinner');\n",
              "      try {\n",
              "        const charts = await google.colab.kernel.invokeFunction(\n",
              "            'suggestCharts', [key], {});\n",
              "      } catch (error) {\n",
              "        console.error('Error during call to suggestCharts:', error);\n",
              "      }\n",
              "      quickchartButtonEl.classList.remove('colab-df-spinner');\n",
              "      quickchartButtonEl.classList.add('colab-df-quickchart-complete');\n",
              "    }\n",
              "    (() => {\n",
              "      let quickchartButtonEl =\n",
              "        document.querySelector('#df-a878539e-d03b-4f94-a665-ad864cbc2253 button');\n",
              "      quickchartButtonEl.style.display =\n",
              "        google.colab.kernel.accessAllowed ? 'block' : 'none';\n",
              "    })();\n",
              "  </script>\n",
              "</div>\n",
              "    </div>\n",
              "  </div>\n"
            ]
          },
          "metadata": {},
          "execution_count": 40
        }
      ]
    },
    {
      "cell_type": "code",
      "source": [
        "relevant.shape"
      ],
      "metadata": {
        "colab": {
          "base_uri": "https://localhost:8080/"
        },
        "id": "HnV556pioanc",
        "outputId": "c87b6ca8-4b58-4999-a37d-6e2c92fb42f3"
      },
      "execution_count": 41,
      "outputs": [
        {
          "output_type": "execute_result",
          "data": {
            "text/plain": [
              "(33656, 2)"
            ]
          },
          "metadata": {},
          "execution_count": 41
        }
      ]
    },
    {
      "cell_type": "code",
      "source": [
        "search_term = '9C Gold Street'\n",
        "search_term"
      ],
      "metadata": {
        "colab": {
          "base_uri": "https://localhost:8080/",
          "height": 35
        },
        "id": "TMH7I3kr51qP",
        "outputId": "eed900d7-5c4c-4785-cbf9-f76a2afeafed"
      },
      "execution_count": null,
      "outputs": [
        {
          "output_type": "execute_result",
          "data": {
            "text/plain": [
              "'9C Gold Street'"
            ],
            "application/vnd.google.colaboratory.intrinsic+json": {
              "type": "string"
            }
          },
          "metadata": {},
          "execution_count": 8
        }
      ]
    },
    {
      "cell_type": "markdown",
      "source": [
        "# Linear search"
      ],
      "metadata": {
        "id": "Dv_MPq3t3-b7"
      }
    },
    {
      "cell_type": "code",
      "source": [
        "linear_search = list()\n",
        "for i in range(len(relevant)):\n",
        "  row = relevant.iloc[i]\n",
        "  address = row.ADDRESS\n",
        "  price = row.PRICE\n",
        "\n",
        "  linear_search.append((address, price))"
      ],
      "metadata": {
        "id": "IhZzBagV3_49"
      },
      "execution_count": null,
      "outputs": []
    },
    {
      "cell_type": "code",
      "source": [
        "%%timeit -n 100 -r 100\n",
        "for pair in linear_search:\n",
        "  if pair[0] == search_term:\n",
        "    pair"
      ],
      "metadata": {
        "id": "hwyeKb254kL9",
        "colab": {
          "base_uri": "https://localhost:8080/"
        },
        "outputId": "6a4b982b-18f7-4c18-a47a-56ffb1827ce1"
      },
      "execution_count": null,
      "outputs": [
        {
          "output_type": "stream",
          "name": "stdout",
          "text": [
            "2.74 ms ± 842 µs per loop (mean ± std. dev. of 100 runs, 100 loops each)\n"
          ]
        }
      ]
    },
    {
      "cell_type": "markdown",
      "source": [
        "# Hash table (50 buckets)"
      ],
      "metadata": {
        "id": "rDMQ6LDr4hnJ"
      }
    },
    {
      "cell_type": "code",
      "source": [
        "def hashcode(address):\n",
        "  h = 0\n",
        "  for i in address:\n",
        "    h = h*31 + ord(i)\n",
        "  return h"
      ],
      "metadata": {
        "id": "MZ8WioKm03SK"
      },
      "execution_count": null,
      "outputs": []
    },
    {
      "cell_type": "code",
      "source": [
        "search_hc = hashcode(search_term)\n",
        "search_hc"
      ],
      "metadata": {
        "colab": {
          "base_uri": "https://localhost:8080/"
        },
        "id": "klZqBQLPGCix",
        "outputId": "25f9b1df-8171-48e1-a0dd-7f8b9de4fdd3"
      },
      "execution_count": null,
      "outputs": [
        {
          "output_type": "execute_result",
          "data": {
            "text/plain": [
              "1445447840029701104589"
            ]
          },
          "metadata": {},
          "execution_count": 13
        }
      ]
    },
    {
      "cell_type": "code",
      "source": [
        "def get_bucket_num(hashcode, buckets):\n",
        "  num = hashcode % buckets\n",
        "\n",
        "  return num"
      ],
      "metadata": {
        "id": "YFyXPmnH3JRL"
      },
      "execution_count": null,
      "outputs": []
    },
    {
      "cell_type": "code",
      "source": [
        "\"\"\"Initializing hash table with 50 buckets\"\"\"\n",
        "htable_50 = list()\n",
        "for i in range(50):\n",
        "  htable_50.append(list())"
      ],
      "metadata": {
        "id": "sG4_WtrI3ugE"
      },
      "execution_count": null,
      "outputs": []
    },
    {
      "cell_type": "code",
      "source": [
        "\"\"\"Iterating through data frame and inserting into hash table\"\"\"\n",
        "for i in range(len(relevant)):\n",
        "  address = relevant.iloc[i].ADDRESS\n",
        "  price = relevant.iloc[i].PRICE\n",
        "\n",
        "  hcode = hashcode(address)\n",
        "  bucket_num = hcode % 50\n",
        "  tup = address, price\n",
        "  htable_50[bucket_num].append(tup)"
      ],
      "metadata": {
        "id": "rJ8xZkeK1hcT"
      },
      "execution_count": null,
      "outputs": []
    },
    {
      "cell_type": "code",
      "source": [
        "search_hash = hashcode(search_term)\n",
        "search_bucket_num = get_bucket_num(search_hash, 50)\n",
        "search_bucket = htable_50[search_bucket_num]\n",
        "for pair in search_bucket:\n",
        "  if pair[0] == search_term:\n",
        "    print(pair)"
      ],
      "metadata": {
        "colab": {
          "base_uri": "https://localhost:8080/"
        },
        "id": "zq9cwUZFqdzZ",
        "outputId": "973c503a-6ce5-466d-8645-324a0936ed79"
      },
      "execution_count": 42,
      "outputs": [
        {
          "output_type": "stream",
          "name": "stdout",
          "text": [
            "('9C Gold Street', 1040000)\n"
          ]
        }
      ]
    },
    {
      "cell_type": "code",
      "source": [
        "%%timeit -n 100 -r 100\n",
        "\"\"\"Running an equality search in the hash table\"\"\"\n",
        "search_hash = hashcode(search_term)\n",
        "search_bucket_num = get_bucket_num(search_hash, 50)\n",
        "search_bucket = htable_50[search_bucket_num]\n",
        "for pair in search_bucket:\n",
        "  if pair[0] == search_term:\n",
        "    pair"
      ],
      "metadata": {
        "id": "gTgy_FQF3n6U",
        "colab": {
          "base_uri": "https://localhost:8080/"
        },
        "outputId": "1be6f817-ec8f-47ad-9bba-7892e1d38288"
      },
      "execution_count": null,
      "outputs": [
        {
          "output_type": "stream",
          "name": "stdout",
          "text": [
            "53.2 µs ± 10.6 µs per loop (mean ± std. dev. of 100 runs, 100 loops each)\n"
          ]
        }
      ]
    },
    {
      "cell_type": "markdown",
      "source": [
        "# Hash table (4011 buckets)"
      ],
      "metadata": {
        "id": "ubcgOJSk-m4m"
      }
    },
    {
      "cell_type": "code",
      "source": [
        "\"\"\"Initializing hash tablewith 4011 buckets\"\"\"\n",
        "htable_4011 = list()\n",
        "for i in range(4011):\n",
        "  htable_4011.append(list())"
      ],
      "metadata": {
        "id": "UwR5clQ69p7V"
      },
      "execution_count": null,
      "outputs": []
    },
    {
      "cell_type": "code",
      "source": [
        "\"\"\"Iterating through data frame and inserting into hash table\"\"\"\n",
        "for i in range(len(relevant)):\n",
        "  address = relevant.iloc[i].ADDRESS\n",
        "  price = relevant.iloc[i].PRICE\n",
        "\n",
        "  hcode = hashcode(address)\n",
        "  bucket_num = hcode % 4011\n",
        "  tup = address, price\n",
        "  htable_4011[bucket_num].append(tup)"
      ],
      "metadata": {
        "id": "6C1e-oL2-zFJ"
      },
      "execution_count": null,
      "outputs": []
    },
    {
      "cell_type": "code",
      "source": [
        "%%timeit -n 100 -r 100\n",
        "\"\"\"Running an equality search in the hash table\"\"\"\n",
        "search_hash = hashcode(search_term)\n",
        "search_bucket_num = get_bucket_num(search_hash, 4011)\n",
        "search_bucket = htable_4011[search_bucket_num]\n",
        "for pair in search_bucket:\n",
        "  if pair[0] == search_term:\n",
        "    pair"
      ],
      "metadata": {
        "colab": {
          "base_uri": "https://localhost:8080/"
        },
        "id": "pI5ENw_Z_C_I",
        "outputId": "c4083c4a-8006-4b99-f1b6-97c2da5a6311"
      },
      "execution_count": null,
      "outputs": [
        {
          "output_type": "stream",
          "name": "stdout",
          "text": [
            "The slowest run took 16.94 times longer than the fastest. This could mean that an intermediate result is being cached.\n",
            "6.41 µs ± 6.8 µs per loop (mean ± std. dev. of 100 runs, 100 loops each)\n"
          ]
        }
      ]
    },
    {
      "cell_type": "markdown",
      "source": [
        "# Non-demo things"
      ],
      "metadata": {
        "id": "nX09SpHQon8Z"
      }
    },
    {
      "cell_type": "markdown",
      "source": [
        "##Prime"
      ],
      "metadata": {
        "id": "8X72FPCRKA92"
      }
    },
    {
      "cell_type": "code",
      "source": [
        "\"\"\"Initializing hash tablewith 4011 buckets\"\"\"\n",
        "htable_3989 = list()\n",
        "for i in range(1117):\n",
        "  htable_3989.append(list())"
      ],
      "metadata": {
        "id": "3nCvwh9SKB5g"
      },
      "execution_count": null,
      "outputs": []
    },
    {
      "cell_type": "code",
      "source": [
        "for i in range(len(relevant)):\n",
        "  address = relevant.iloc[i].ADDRESS\n",
        "  price = relevant.iloc[i].PRICE\n",
        "\n",
        "  hcode = hashcode(address)\n",
        "  bucket_num = hcode % 1117\n",
        "  tup = address, price\n",
        "  htable_3989[bucket_num].append(tup)"
      ],
      "metadata": {
        "id": "h1KqcGkPKIYa"
      },
      "execution_count": null,
      "outputs": []
    },
    {
      "cell_type": "code",
      "source": [
        "bucket_lens_3989 = list()\n",
        "for i in range(1117):\n",
        "  bucket_lens_3989.append(len(htable_3989[i]))\n",
        "  #bucket_avg_4011 = bucket_lens_4011/4011"
      ],
      "metadata": {
        "id": "h40zcff4KUsN"
      },
      "execution_count": null,
      "outputs": []
    },
    {
      "cell_type": "code",
      "source": [
        "buckets_prime = range(1117)\n",
        "plt.bar(buckets_prime, bucket_lens_3989)"
      ],
      "metadata": {
        "colab": {
          "base_uri": "https://localhost:8080/",
          "height": 449
        },
        "id": "zVPYPEZ_KQZ5",
        "outputId": "ad4b9905-6f7b-4fda-d86a-5835e3461f74"
      },
      "execution_count": null,
      "outputs": [
        {
          "output_type": "execute_result",
          "data": {
            "text/plain": [
              "<BarContainer object of 1117 artists>"
            ]
          },
          "metadata": {},
          "execution_count": 72
        },
        {
          "output_type": "display_data",
          "data": {
            "text/plain": [
              "<Figure size 640x480 with 1 Axes>"
            ],
            "image/png": "[encoded data removed]"
          },
          "metadata": {}
        }
      ]
    },
    {
      "cell_type": "markdown",
      "source": [
        "## Plotting"
      ],
      "metadata": {
        "id": "xJ_afFy3Hrkh"
      }
    },
    {
      "cell_type": "code",
      "source": [
        "searches = ['linear', 'hash_50', 'hash_4011']\n",
        "times = [1440, 45.3, 2.12]"
      ],
      "metadata": {
        "id": "A4xQ7_aACcxn"
      },
      "execution_count": null,
      "outputs": []
    },
    {
      "cell_type": "code",
      "source": [
        "fig, axs = plt.subplots(figsize=(10,4))\n",
        "axs.bar(searches, times, color='#199988')\n",
        "axs.set_title('Average Time by Search\\n(Run 100 times each)', color='#595959', weight='bold')\n",
        "axs.set_xlabel('Search method', color='#595959', weight='bold')\n",
        "axs.set_ylabel('Time (µs)', color='#595959', weight='bold')\n",
        "axs.spines[['right', 'top']].set_visible(False)\n",
        "axs.spines[['bottom', 'left']].set_color('#595959')\n",
        "\n",
        "axs.tick_params(axis='x', colors='#595959')\n",
        "axs.tick_params(axis='y', colors='#595959')\n",
        "\n",
        "axs.text(0, 800, '1.44 ms ± 289 µs\\nper loop', horizontalalignment='center', color='#595959')\n",
        "axs.text(1, 200, '45.3 µs ± 30.2 µs\\nper loop', horizontalalignment='center', color='#595959')\n",
        "axs.text(2, 100, '2.12 µs ± 434 ns \\nper loop', horizontalalignment='center', color='#595959')\n",
        "\n",
        "#plt.savefig('search_times.png')"
      ],
      "metadata": {
        "colab": {
          "base_uri": "https://localhost:8080/",
          "height": 448
        },
        "id": "FmlfYEN3CoxH",
        "outputId": "390dfa7b-2209-4314-ee73-04e94bdc5073"
      },
      "execution_count": null,
      "outputs": [
        {
          "output_type": "execute_result",
          "data": {
            "text/plain": [
              "Text(2, 100, '2.12 µs ± 434 ns \\nper loop')"
            ]
          },
          "metadata": {},
          "execution_count": 75
        },
        {
          "output_type": "display_data",
          "data": {
            "text/plain": [
              "<Figure size 1000x400 with 1 Axes>"
            ],
            "image/png": "[encoded data removed]"
          },
          "metadata": {}
        }
      ]
    },
    {
      "cell_type": "code",
      "source": [],
      "metadata": {
        "id": "6uVvOpxTGSza"
      },
      "execution_count": null,
      "outputs": []
    },
    {
      "cell_type": "markdown",
      "source": [
        "## Small tests"
      ],
      "metadata": {
        "id": "p4Ep59EdYHwv"
      }
    },
    {
      "cell_type": "code",
      "source": [
        "short = relevant.iloc[16828:]"
      ],
      "metadata": {
        "id": "z4bE0Nx8YI4H"
      },
      "execution_count": null,
      "outputs": []
    },
    {
      "cell_type": "code",
      "source": [
        "linear_search_short = list()\n",
        "for i in range(len(short)):\n",
        "  row = short.iloc[i]\n",
        "  address = row.ADDRESS\n",
        "  price = row.PRICE\n",
        "\n",
        "  linear_search_short.append((address, price))"
      ],
      "metadata": {
        "id": "OAZGkYjwYJfH"
      },
      "execution_count": null,
      "outputs": []
    },
    {
      "cell_type": "code",
      "source": [
        "%%timeit -n 100 -r 100\n",
        "for pair in linear_search_short:\n",
        "  if pair[0] == search_term:\n",
        "    pair"
      ],
      "metadata": {
        "colab": {
          "base_uri": "https://localhost:8080/"
        },
        "id": "Gd0JNRdhYNqx",
        "outputId": "fa8e263c-2cd4-4d96-d90a-ff839a4094db"
      },
      "execution_count": null,
      "outputs": [
        {
          "output_type": "stream",
          "name": "stdout",
          "text": [
            "1.45 ms ± 567 µs per loop (mean ± std. dev. of 100 runs, 100 loops each)\n"
          ]
        }
      ]
    },
    {
      "cell_type": "code",
      "source": [
        "\"\"\"Initializing hash table with 50 buckets\"\"\"\n",
        "htable_50_short = list()\n",
        "for i in range(50):\n",
        "  htable_50_short.append(list())"
      ],
      "metadata": {
        "id": "smF5SSKzYcU2"
      },
      "execution_count": null,
      "outputs": []
    },
    {
      "cell_type": "code",
      "source": [
        "\"\"\"Iterating through data frame and inserting into hash table\"\"\"\n",
        "for i in range(len(short)):\n",
        "  address = short.iloc[i].ADDRESS\n",
        "  price = short.iloc[i].PRICE\n",
        "\n",
        "  hcode = hashcode(address)\n",
        "  bucket_num = hcode % 50\n",
        "  tup = address, price\n",
        "  htable_50_short[bucket_num].append(tup)"
      ],
      "metadata": {
        "id": "IcZDAgZpYzS7"
      },
      "execution_count": null,
      "outputs": []
    },
    {
      "cell_type": "code",
      "source": [
        "%%timeit -n 100 -r 100\n",
        "\"\"\"Running an equality search in the hash table\"\"\"\n",
        "search_hash = hashcode(search_term)\n",
        "search_bucket_num = get_bucket_num(search_hash, 50)\n",
        "search_bucket = htable_50_short[search_bucket_num]\n",
        "for pair in search_bucket:\n",
        "  if pair[0] == search_term:\n",
        "    pair"
      ],
      "metadata": {
        "colab": {
          "base_uri": "https://localhost:8080/"
        },
        "id": "D0BDs7bwY9MD",
        "outputId": "b50f9728-3967-446a-9c61-71a4dcc270b1"
      },
      "execution_count": null,
      "outputs": [
        {
          "output_type": "stream",
          "name": "stdout",
          "text": [
            "53.6 µs ± 6.74 µs per loop (mean ± std. dev. of 100 runs, 100 loops each)\n"
          ]
        }
      ]
    },
    {
      "cell_type": "code",
      "source": [
        "\"\"\"Initializing hash tablewith 4011 buckets\"\"\"\n",
        "htable_4011_short = list()\n",
        "for i in range(4011):\n",
        "  htable_4011_short.append(list())"
      ],
      "metadata": {
        "id": "AegrvXTxZBBU"
      },
      "execution_count": null,
      "outputs": []
    },
    {
      "cell_type": "code",
      "source": [
        "\"\"\"Iterating through data frame and inserting into hash table\"\"\"\n",
        "for i in range(len(short)):\n",
        "  address = short.iloc[i].ADDRESS\n",
        "  price = short.iloc[i].PRICE\n",
        "\n",
        "  hcode = hashcode(address)\n",
        "  bucket_num = hcode % 4011\n",
        "  tup = address, price\n",
        "  htable_4011_short[bucket_num].append(tup)"
      ],
      "metadata": {
        "id": "DjjXIJWcZN9T"
      },
      "execution_count": null,
      "outputs": []
    },
    {
      "cell_type": "code",
      "source": [
        "%%timeit -n 100 -r 100\n",
        "\"\"\"Running an equality search in the hash table\"\"\"\n",
        "search_hash = hashcode(search_term)\n",
        "search_bucket_num = get_bucket_num(search_hash, 4011)\n",
        "search_bucket = htable_4011_short[search_bucket_num]\n",
        "for pair in search_bucket:\n",
        "  if pair[0] == search_term:\n",
        "    pair"
      ],
      "metadata": {
        "colab": {
          "base_uri": "https://localhost:8080/"
        },
        "id": "fUwHKgqhZS2e",
        "outputId": "81427743-6f50-440f-fd67-3d3ecb03b688"
      },
      "execution_count": null,
      "outputs": [
        {
          "output_type": "stream",
          "name": "stdout",
          "text": [
            "The slowest run took 14.74 times longer than the fastest. This could mean that an intermediate result is being cached.\n",
            "6.96 µs ± 9.27 µs per loop (mean ± std. dev. of 100 runs, 100 loops each)\n"
          ]
        }
      ]
    },
    {
      "cell_type": "code",
      "source": [],
      "metadata": {
        "id": "lGrXQ4hyZVB6"
      },
      "execution_count": null,
      "outputs": []
    },
    {
      "cell_type": "markdown",
      "source": [
        "## Other"
      ],
      "metadata": {
        "id": "0_8nK8zooDoR"
      }
    },
    {
      "cell_type": "code",
      "source": [
        "bucket_lens = list()\n",
        "for i in range(50):\n",
        "  bucket_lens.append(len(htable_50[i]))"
      ],
      "metadata": {
        "id": "N5hLrJQG-0ZV"
      },
      "execution_count": null,
      "outputs": []
    },
    {
      "cell_type": "code",
      "source": [
        "buckets_50 = range(50)\n",
        "plt.bar(buckets_50, bucket_lens)"
      ],
      "metadata": {
        "colab": {
          "base_uri": "https://localhost:8080/",
          "height": 447
        },
        "id": "NNxVrzDFG0rB",
        "outputId": "a42e5852-47cc-46bb-a4d6-1bfc4f4dcd00"
      },
      "execution_count": null,
      "outputs": [
        {
          "output_type": "execute_result",
          "data": {
            "text/plain": [
              "<BarContainer object of 50 artists>"
            ]
          },
          "metadata": {},
          "execution_count": 21
        },
        {
          "output_type": "display_data",
          "data": {
            "text/plain": [
              "<Figure size 640x480 with 1 Axes>"
            ],
            "image/png": "[encoded data removed]"
          },
          "metadata": {}
        }
      ]
    },
    {
      "cell_type": "code",
      "source": [
        "bucket_lens_4011 = list()\n",
        "for i in range(4011):\n",
        "  bucket_lens_4011.append(len(htable_4011[i]))\n",
        "  #bucket_avg_4011 = bucket_lens_4011/4011"
      ],
      "metadata": {
        "id": "C6l4fkSW_KEP"
      },
      "execution_count": null,
      "outputs": []
    },
    {
      "cell_type": "code",
      "source": [
        "buckets_4011 = range(4011)\n",
        "plt.bar(buckets_4011, bucket_lens_4011)"
      ],
      "metadata": {
        "colab": {
          "base_uri": "https://localhost:8080/",
          "height": 447
        },
        "id": "HG4I2uI-HW50",
        "outputId": "ef32e8c8-2b77-48ce-c581-98feb4b848d7"
      },
      "execution_count": null,
      "outputs": [
        {
          "output_type": "execute_result",
          "data": {
            "text/plain": [
              "<BarContainer object of 4011 artists>"
            ]
          },
          "metadata": {},
          "execution_count": 65
        },
        {
          "output_type": "display_data",
          "data": {
            "text/plain": [
              "<Figure size 640x480 with 1 Axes>"
            ],
            "image/png": "[encoded data removed]"
          },
          "metadata": {}
        }
      ]
    },
    {
      "cell_type": "code",
      "source": [
        "get_bucket_num(search_hc, 50)"
      ],
      "metadata": {
        "colab": {
          "base_uri": "https://localhost:8080/"
        },
        "id": "dQV6QDrdGF14",
        "outputId": "1cd65020-b3f0-42fe-95d7-7c7aafa74ba0"
      },
      "execution_count": null,
      "outputs": [
        {
          "output_type": "execute_result",
          "data": {
            "text/plain": [
              "39"
            ]
          },
          "metadata": {},
          "execution_count": 15
        }
      ]
    },
    {
      "cell_type": "code",
      "source": [
        "get_bucket_num(search_hc, 4011)"
      ],
      "metadata": {
        "colab": {
          "base_uri": "https://localhost:8080/"
        },
        "id": "ZKLqG8G1GNxH",
        "outputId": "41e7722d-e18b-45e5-99b4-bda1632ab33d"
      },
      "execution_count": null,
      "outputs": [
        {
          "output_type": "execute_result",
          "data": {
            "text/plain": [
              "2358"
            ]
          },
          "metadata": {},
          "execution_count": 16
        }
      ]
    }
  ]
}